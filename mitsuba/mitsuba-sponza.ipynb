{
 "cells": [
  {
   "cell_type": "code",
   "execution_count": 1,
   "metadata": {},
   "outputs": [
    {
     "name": "stdout",
     "output_type": "stream",
     "text": [
      "Requirement already satisfied: mitsuba in /media/marco/Marco/Projetos/Universidade/5_ano/Tese/repos/VolumetricEffects/.venv/lib/python3.12/site-packages (3.5.0)\n",
      "Requirement already satisfied: ipywidgets in /media/marco/Marco/Projetos/Universidade/5_ano/Tese/repos/VolumetricEffects/.venv/lib/python3.12/site-packages (8.1.2)\n",
      "Requirement already satisfied: drjit==0.4.4 in /media/marco/Marco/Projetos/Universidade/5_ano/Tese/repos/VolumetricEffects/.venv/lib/python3.12/site-packages (from mitsuba) (0.4.4)\n",
      "Requirement already satisfied: comm>=0.1.3 in /media/marco/Marco/Projetos/Universidade/5_ano/Tese/repos/VolumetricEffects/.venv/lib/python3.12/site-packages (from ipywidgets) (0.2.2)\n",
      "Requirement already satisfied: ipython>=6.1.0 in /media/marco/Marco/Projetos/Universidade/5_ano/Tese/repos/VolumetricEffects/.venv/lib/python3.12/site-packages (from ipywidgets) (8.24.0)\n",
      "Requirement already satisfied: traitlets>=4.3.1 in /media/marco/Marco/Projetos/Universidade/5_ano/Tese/repos/VolumetricEffects/.venv/lib/python3.12/site-packages (from ipywidgets) (5.14.3)\n",
      "Requirement already satisfied: widgetsnbextension~=4.0.10 in /media/marco/Marco/Projetos/Universidade/5_ano/Tese/repos/VolumetricEffects/.venv/lib/python3.12/site-packages (from ipywidgets) (4.0.10)\n",
      "Requirement already satisfied: jupyterlab-widgets~=3.0.10 in /media/marco/Marco/Projetos/Universidade/5_ano/Tese/repos/VolumetricEffects/.venv/lib/python3.12/site-packages (from ipywidgets) (3.0.10)\n",
      "Requirement already satisfied: decorator in /media/marco/Marco/Projetos/Universidade/5_ano/Tese/repos/VolumetricEffects/.venv/lib/python3.12/site-packages (from ipython>=6.1.0->ipywidgets) (5.1.1)\n",
      "Requirement already satisfied: jedi>=0.16 in /media/marco/Marco/Projetos/Universidade/5_ano/Tese/repos/VolumetricEffects/.venv/lib/python3.12/site-packages (from ipython>=6.1.0->ipywidgets) (0.19.1)\n",
      "Requirement already satisfied: matplotlib-inline in /media/marco/Marco/Projetos/Universidade/5_ano/Tese/repos/VolumetricEffects/.venv/lib/python3.12/site-packages (from ipython>=6.1.0->ipywidgets) (0.1.7)\n",
      "Requirement already satisfied: prompt-toolkit<3.1.0,>=3.0.41 in /media/marco/Marco/Projetos/Universidade/5_ano/Tese/repos/VolumetricEffects/.venv/lib/python3.12/site-packages (from ipython>=6.1.0->ipywidgets) (3.0.43)\n",
      "Requirement already satisfied: pygments>=2.4.0 in /media/marco/Marco/Projetos/Universidade/5_ano/Tese/repos/VolumetricEffects/.venv/lib/python3.12/site-packages (from ipython>=6.1.0->ipywidgets) (2.18.0)\n",
      "Requirement already satisfied: stack-data in /media/marco/Marco/Projetos/Universidade/5_ano/Tese/repos/VolumetricEffects/.venv/lib/python3.12/site-packages (from ipython>=6.1.0->ipywidgets) (0.6.3)\n",
      "Requirement already satisfied: pexpect>4.3 in /media/marco/Marco/Projetos/Universidade/5_ano/Tese/repos/VolumetricEffects/.venv/lib/python3.12/site-packages (from ipython>=6.1.0->ipywidgets) (4.9.0)\n",
      "Requirement already satisfied: parso<0.9.0,>=0.8.3 in /media/marco/Marco/Projetos/Universidade/5_ano/Tese/repos/VolumetricEffects/.venv/lib/python3.12/site-packages (from jedi>=0.16->ipython>=6.1.0->ipywidgets) (0.8.4)\n",
      "Requirement already satisfied: ptyprocess>=0.5 in /media/marco/Marco/Projetos/Universidade/5_ano/Tese/repos/VolumetricEffects/.venv/lib/python3.12/site-packages (from pexpect>4.3->ipython>=6.1.0->ipywidgets) (0.7.0)\n",
      "Requirement already satisfied: wcwidth in /media/marco/Marco/Projetos/Universidade/5_ano/Tese/repos/VolumetricEffects/.venv/lib/python3.12/site-packages (from prompt-toolkit<3.1.0,>=3.0.41->ipython>=6.1.0->ipywidgets) (0.2.13)\n",
      "Requirement already satisfied: executing>=1.2.0 in /media/marco/Marco/Projetos/Universidade/5_ano/Tese/repos/VolumetricEffects/.venv/lib/python3.12/site-packages (from stack-data->ipython>=6.1.0->ipywidgets) (2.0.1)\n",
      "Requirement already satisfied: asttokens>=2.1.0 in /media/marco/Marco/Projetos/Universidade/5_ano/Tese/repos/VolumetricEffects/.venv/lib/python3.12/site-packages (from stack-data->ipython>=6.1.0->ipywidgets) (2.4.1)\n",
      "Requirement already satisfied: pure-eval in /media/marco/Marco/Projetos/Universidade/5_ano/Tese/repos/VolumetricEffects/.venv/lib/python3.12/site-packages (from stack-data->ipython>=6.1.0->ipywidgets) (0.2.2)\n",
      "Requirement already satisfied: six>=1.12.0 in /media/marco/Marco/Projetos/Universidade/5_ano/Tese/repos/VolumetricEffects/.venv/lib/python3.12/site-packages (from asttokens>=2.1.0->stack-data->ipython>=6.1.0->ipywidgets) (1.16.0)\n",
      "Note: you may need to restart the kernel to use updated packages.\n"
     ]
    }
   ],
   "source": [
    "%pip install mitsuba ipywidgets\n",
    "import mitsuba as mi"
   ]
  },
  {
   "cell_type": "code",
   "execution_count": 2,
   "metadata": {},
   "outputs": [
    {
     "data": {
      "text/plain": [
       "['scalar_rgb', 'scalar_spectral', 'cuda_ad_rgb', 'llvm_ad_rgb']"
      ]
     },
     "execution_count": 2,
     "metadata": {},
     "output_type": "execute_result"
    }
   ],
   "source": [
    "mi.variants()"
   ]
  },
  {
   "cell_type": "code",
   "execution_count": 3,
   "metadata": {},
   "outputs": [],
   "source": [
    "mi.set_variant('cuda_ad_rgb')"
   ]
  },
  {
   "cell_type": "code",
   "execution_count": 4,
   "metadata": {},
   "outputs": [],
   "source": [
    "sponza = mi.load_file('sponza/sponza.xml')\n",
    "img = mi.render(sponza, spp=1024)\n",
    "output = mi.Bitmap(img)\n",
    "output.write('sponza.exr')\n"
   ]
  }
 ],
 "metadata": {
  "kernelspec": {
   "display_name": "mitsuba",
   "language": "python",
   "name": "python3"
  },
  "language_info": {
   "codemirror_mode": {
    "name": "ipython",
    "version": 3
   },
   "file_extension": ".py",
   "mimetype": "text/x-python",
   "name": "python",
   "nbconvert_exporter": "python",
   "pygments_lexer": "ipython3",
   "version": "3.12.3"
  }
 },
 "nbformat": 4,
 "nbformat_minor": 2
}
